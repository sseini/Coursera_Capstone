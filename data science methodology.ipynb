{
 "cells": [
  {
   "cell_type": "markdown",
   "metadata": {},
   "source": [
    "# Answers the question : how resolving the spam problem? "
   ]
  },
  {
   "cell_type": "markdown",
   "metadata": {},
   "source": [
    "## 1. Analytic Apporoach\n"
   ]
  },
  {
   "cell_type": "markdown",
   "metadata": {},
   "source": [
    "In this step, we must ask the following question: How can we use data to resolve the spam probem?\n",
    "Which technology, algorithm, pattern we must use?\n",
    "We must define which type of patterns we can need to address the question.\n",
    "In the spam problem, the question requires \"yes\" if the email is a spam or \"no\" if not.\n",
    "We then use a classification model to study our problem.\n"
   ]
  },
  {
   "cell_type": "markdown",
   "metadata": {},
   "source": [
    "## 2. Data Requirements"
   ]
  },
  {
   "cell_type": "markdown",
   "metadata": {},
   "source": [
    "The above analytic methods used, require certain data content, formats and representations.\n",
    "In this step we must answer the questions like \"what\", \"where\", \"when\", \"why\", \"how\" and \"who\"."
   ]
  },
  {
   "cell_type": "markdown",
   "metadata": {},
   "source": [
    "## 3. Data Collection"
   ]
  },
  {
   "cell_type": "markdown",
   "metadata": {},
   "source": [
    "In this step, data scientists must identify, gather the available data resources.\n",
    "These data can be structured, unstructured."
   ]
  },
  {
   "cell_type": "markdown",
   "metadata": {},
   "source": [
    "## 4. Data Understanding and Preparation"
   ]
  },
  {
   "cell_type": "markdown",
   "metadata": {},
   "source": [
    "In this stage we must first answers if the data collected is representative. We can use descriptive statistics to calculate the characteristics of the data and it quality. If problem, we can return to the previous step to correct the problem.\n",
    "After that the data scientist treat the data, remove the data which are not good or the doublons. This step must take a long time for the data scientist. "
   ]
  },
  {
   "cell_type": "markdown",
   "metadata": {},
   "source": [
    "## 5. Modeling and Evaluation"
   ]
  },
  {
   "cell_type": "markdown",
   "metadata": {},
   "source": [
    "The modeling stage works on developing predictive or descriptive\n",
    "models according to the previously defined analytic approach. Globally, we will use the most algorithms of classification and take the best in the predictions. \n",
    "With predictive models, data scientists use a training set to build the model. \n",
    "The data scientist evaluates the model to understand its quality\n",
    "and ensure that it properly and fully addresses the business problem.\n"
   ]
  },
  {
   "cell_type": "code",
   "execution_count": null,
   "metadata": {},
   "outputs": [],
   "source": []
  }
 ],
 "metadata": {
  "kernelspec": {
   "display_name": "Python 3",
   "language": "python",
   "name": "python3"
  },
  "language_info": {
   "codemirror_mode": {
    "name": "ipython",
    "version": 3
   },
   "file_extension": ".py",
   "mimetype": "text/x-python",
   "name": "python",
   "nbconvert_exporter": "python",
   "pygments_lexer": "ipython3",
   "version": "3.7.7"
  }
 },
 "nbformat": 4,
 "nbformat_minor": 4
}
